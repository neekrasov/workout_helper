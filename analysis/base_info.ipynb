{
 "cells": [
  {
   "cell_type": "code",
   "execution_count": 1,
   "id": "95e9bc3b",
   "metadata": {},
   "outputs": [],
   "source": [
    "import numpy as np\n",
    "import pandas as pd\n"
   ]
  },
  {
   "cell_type": "code",
   "execution_count": 2,
   "id": "287c4c2f",
   "metadata": {},
   "outputs": [
    {
     "name": "stderr",
     "output_type": "stream",
     "text": [
      "/home/neekrasov/.cache/pypoetry/virtualenvs/workout-helper-zUj2fRNT-py3.11/lib/python3.11/site-packages/openpyxl/styles/stylesheet.py:226: UserWarning: Workbook contains no default style, apply openpyxl's default\n",
      "  warn(\"Workbook contains no default style, apply openpyxl's default\")\n"
     ]
    }
   ],
   "source": [
    "data = pd.read_excel('../source/data.xlsx')\n"
   ]
  },
  {
   "cell_type": "code",
   "execution_count": 3,
   "id": "cc8d298c",
   "metadata": {},
   "outputs": [],
   "source": [
    "data = data.loc[:,data.notna().all(axis=0)] # Удаление ненужных столбцов"
   ]
  },
  {
   "cell_type": "code",
   "execution_count": 4,
   "id": "2fe38bd4",
   "metadata": {},
   "outputs": [
    {
     "data": {
      "text/plain": [
       "бесплатно                      3207\n",
       "платно                           10\n",
       "Форма посещения (платность)       1\n",
       "Name: Paid, dtype: int64"
      ]
     },
     "execution_count": 4,
     "metadata": {},
     "output_type": "execute_result"
    }
   ],
   "source": [
    "data.Paid.value_counts() # Количество платных и бесплатных мест"
   ]
  },
  {
   "cell_type": "code",
   "execution_count": 5,
   "id": "03466a1e",
   "metadata": {},
   "outputs": [
    {
     "data": {
      "text/html": [
       "<div>\n",
       "<style scoped>\n",
       "    .dataframe tbody tr th:only-of-type {\n",
       "        vertical-align: middle;\n",
       "    }\n",
       "\n",
       "    .dataframe tbody tr th {\n",
       "        vertical-align: top;\n",
       "    }\n",
       "\n",
       "    .dataframe thead th {\n",
       "        text-align: right;\n",
       "    }\n",
       "</style>\n",
       "<table border=\"1\" class=\"dataframe\">\n",
       "  <thead>\n",
       "    <tr style=\"text-align: right;\">\n",
       "      <th></th>\n",
       "      <th>global_id</th>\n",
       "      <th>ObjectName</th>\n",
       "      <th>AdmArea</th>\n",
       "      <th>District</th>\n",
       "      <th>Address</th>\n",
       "      <th>HasEquipmentRental</th>\n",
       "      <th>HasTechService</th>\n",
       "      <th>HasDressingRoom</th>\n",
       "      <th>HasEatery</th>\n",
       "      <th>HasToilet</th>\n",
       "      <th>HasWifi</th>\n",
       "      <th>HasCashMachine</th>\n",
       "      <th>HasFirstAidPost</th>\n",
       "      <th>HasMusic</th>\n",
       "      <th>Lighting</th>\n",
       "      <th>Seats</th>\n",
       "      <th>Paid</th>\n",
       "    </tr>\n",
       "  </thead>\n",
       "  <tbody>\n",
       "    <tr>\n",
       "      <th>0</th>\n",
       "      <td>global_id</td>\n",
       "      <td>Название спортивного объекта</td>\n",
       "      <td>Административный округ</td>\n",
       "      <td>Район</td>\n",
       "      <td>Адрес</td>\n",
       "      <td>Возможность проката оборудования</td>\n",
       "      <td>Наличие сервиса технического обслуживания</td>\n",
       "      <td>Наличие раздевалки</td>\n",
       "      <td>Наличие точки питания</td>\n",
       "      <td>Наличие туалета</td>\n",
       "      <td>Наличие точки Wi-Fi</td>\n",
       "      <td>Наличие банкомата</td>\n",
       "      <td>Наличие медпункта</td>\n",
       "      <td>Наличие звукового сопровождения</td>\n",
       "      <td>Освещение</td>\n",
       "      <td>Количество оборудованных посадочных мест</td>\n",
       "      <td>Форма посещения (платность)</td>\n",
       "    </tr>\n",
       "    <tr>\n",
       "      <th>1</th>\n",
       "      <td>281867778</td>\n",
       "      <td>Парк «Сад культуры и отдыха имени Н.Э. Баумана»</td>\n",
       "      <td>Центральный административный округ</td>\n",
       "      <td>Басманный район</td>\n",
       "      <td>Старая Басманная улица, дом 15А, строение 4</td>\n",
       "      <td>нет</td>\n",
       "      <td>да</td>\n",
       "      <td>да</td>\n",
       "      <td>да</td>\n",
       "      <td>да</td>\n",
       "      <td>да</td>\n",
       "      <td>нет</td>\n",
       "      <td>нет</td>\n",
       "      <td>да</td>\n",
       "      <td>смешанное освещение</td>\n",
       "      <td>30</td>\n",
       "      <td>бесплатно</td>\n",
       "    </tr>\n",
       "    <tr>\n",
       "      <th>2</th>\n",
       "      <td>406671453</td>\n",
       "      <td>Парк культуры и отдыха «Фили»</td>\n",
       "      <td>Западный административный округ</td>\n",
       "      <td>район Филёвский Парк</td>\n",
       "      <td>Большая Филёвская улица, дом 22, строение 2</td>\n",
       "      <td>нет</td>\n",
       "      <td>нет</td>\n",
       "      <td>нет</td>\n",
       "      <td>да</td>\n",
       "      <td>да</td>\n",
       "      <td>да</td>\n",
       "      <td>нет</td>\n",
       "      <td>нет</td>\n",
       "      <td>да</td>\n",
       "      <td>без дополнительного освещения</td>\n",
       "      <td>0</td>\n",
       "      <td>бесплатно</td>\n",
       "    </tr>\n",
       "    <tr>\n",
       "      <th>3</th>\n",
       "      <td>407118512</td>\n",
       "      <td>Парк, озелененная городская территория «Сквер ...</td>\n",
       "      <td>Северо-Восточный административный округ</td>\n",
       "      <td>Алексеевский район</td>\n",
       "      <td>Ракетный бульвар, дом 8</td>\n",
       "      <td>нет</td>\n",
       "      <td>нет</td>\n",
       "      <td>нет</td>\n",
       "      <td>нет</td>\n",
       "      <td>да</td>\n",
       "      <td>нет</td>\n",
       "      <td>нет</td>\n",
       "      <td>нет</td>\n",
       "      <td>нет</td>\n",
       "      <td>смешанное освещение</td>\n",
       "      <td>0</td>\n",
       "      <td>бесплатно</td>\n",
       "    </tr>\n",
       "    <tr>\n",
       "      <th>4</th>\n",
       "      <td>407200818</td>\n",
       "      <td>Дворовая территория</td>\n",
       "      <td>Западный административный округ</td>\n",
       "      <td>Можайский район</td>\n",
       "      <td>Дорогобужская улица, дом 11</td>\n",
       "      <td>нет</td>\n",
       "      <td>нет</td>\n",
       "      <td>нет</td>\n",
       "      <td>нет</td>\n",
       "      <td>нет</td>\n",
       "      <td>нет</td>\n",
       "      <td>нет</td>\n",
       "      <td>нет</td>\n",
       "      <td>нет</td>\n",
       "      <td>освещение светодиодными лампами</td>\n",
       "      <td>0</td>\n",
       "      <td>бесплатно</td>\n",
       "    </tr>\n",
       "  </tbody>\n",
       "</table>\n",
       "</div>"
      ],
      "text/plain": [
       "   global_id                                         ObjectName  \\\n",
       "0  global_id                       Название спортивного объекта   \n",
       "1  281867778    Парк «Сад культуры и отдыха имени Н.Э. Баумана»   \n",
       "2  406671453                      Парк культуры и отдыха «Фили»   \n",
       "3  407118512  Парк, озелененная городская территория «Сквер ...   \n",
       "4  407200818                                Дворовая территория   \n",
       "\n",
       "                                   AdmArea              District  \\\n",
       "0                   Административный округ                 Район   \n",
       "1       Центральный административный округ       Басманный район   \n",
       "2          Западный административный округ  район Филёвский Парк   \n",
       "3  Северо-Восточный административный округ    Алексеевский район   \n",
       "4          Западный административный округ       Можайский район   \n",
       "\n",
       "                                       Address  \\\n",
       "0                                        Адрес   \n",
       "1  Старая Басманная улица, дом 15А, строение 4   \n",
       "2  Большая Филёвская улица, дом 22, строение 2   \n",
       "3                      Ракетный бульвар, дом 8   \n",
       "4                  Дорогобужская улица, дом 11   \n",
       "\n",
       "                 HasEquipmentRental  \\\n",
       "0  Возможность проката оборудования   \n",
       "1                               нет   \n",
       "2                               нет   \n",
       "3                               нет   \n",
       "4                               нет   \n",
       "\n",
       "                              HasTechService     HasDressingRoom  \\\n",
       "0  Наличие сервиса технического обслуживания  Наличие раздевалки   \n",
       "1                                         да                  да   \n",
       "2                                        нет                 нет   \n",
       "3                                        нет                 нет   \n",
       "4                                        нет                 нет   \n",
       "\n",
       "               HasEatery        HasToilet              HasWifi  \\\n",
       "0  Наличие точки питания  Наличие туалета  Наличие точки Wi-Fi   \n",
       "1                     да               да                   да   \n",
       "2                     да               да                   да   \n",
       "3                    нет               да                  нет   \n",
       "4                    нет              нет                  нет   \n",
       "\n",
       "      HasCashMachine    HasFirstAidPost                         HasMusic  \\\n",
       "0  Наличие банкомата  Наличие медпункта  Наличие звукового сопровождения   \n",
       "1                нет                нет                               да   \n",
       "2                нет                нет                               да   \n",
       "3                нет                нет                              нет   \n",
       "4                нет                нет                              нет   \n",
       "\n",
       "                          Lighting                                     Seats  \\\n",
       "0                        Освещение  Количество оборудованных посадочных мест   \n",
       "1              смешанное освещение                                        30   \n",
       "2    без дополнительного освещения                                         0   \n",
       "3              смешанное освещение                                         0   \n",
       "4  освещение светодиодными лампами                                         0   \n",
       "\n",
       "                          Paid  \n",
       "0  Форма посещения (платность)  \n",
       "1                    бесплатно  \n",
       "2                    бесплатно  \n",
       "3                    бесплатно  \n",
       "4                    бесплатно  "
      ]
     },
     "execution_count": 5,
     "metadata": {},
     "output_type": "execute_result"
    }
   ],
   "source": [
    "data.head(5)"
   ]
  },
  {
   "cell_type": "code",
   "execution_count": 6,
   "id": "fa9ae138",
   "metadata": {},
   "outputs": [
    {
     "data": {
      "text/plain": [
       "0.3"
      ]
     },
     "execution_count": 6,
     "metadata": {},
     "output_type": "execute_result"
    }
   ],
   "source": [
    "percent = round(len(data[data.Paid=='платно'])/len(data)*100,1) # Процент платных прощадок\n",
    "percent"
   ]
  },
  {
   "cell_type": "code",
   "execution_count": 7,
   "id": "7361a692",
   "metadata": {},
   "outputs": [
    {
     "name": "stdout",
     "output_type": "stream",
     "text": [
      "25 процента[ов] составляют площадки с категорией: смешанное освещение\n",
      "55 процента[ов] составляют площадки с категорией: без дополнительного освещения\n",
      "10 процента[ов] составляют площадки с категорией: освещение светодиодными лампами\n",
      "3 процента[ов] составляют площадки с категорией: освещение лампами накаливания\n",
      "6 процента[ов] составляют площадки с категорией: освещение газоразрядными лампами\n"
     ]
    }
   ],
   "source": [
    "# Процентовка освещений\n",
    "lighting_categories = data.Lighting.unique()[1:]\n",
    "\n",
    "all_length = len(data)\n",
    "for category in lighting_categories:\n",
    "    percent = int(round(len(data[data.Lighting == category])/all_length,2)*100)\n",
    "    print(f'{percent} процента[ов] составляют площадки с категорией: {category}')"
   ]
  },
  {
   "cell_type": "code",
   "execution_count": null,
   "id": "ccf2488e",
   "metadata": {},
   "outputs": [],
   "source": []
  }
 ],
 "metadata": {
  "kernelspec": {
   "display_name": "workout-helper-zUj2fRNT-py3.11",
   "language": "python",
   "name": "python3"
  },
  "language_info": {
   "codemirror_mode": {
    "name": "ipython",
    "version": 3
   },
   "file_extension": ".py",
   "mimetype": "text/x-python",
   "name": "python",
   "nbconvert_exporter": "python",
   "pygments_lexer": "ipython3",
   "version": "3.11.0 (main, Oct 26 2022, 17:49:42) [GCC 12.2.0]"
  },
  "vscode": {
   "interpreter": {
    "hash": "2f6bfd272458025fefe535b639d4314c95dfb8aa29c7f2274f10dbd81c2ccfe3"
   }
  }
 },
 "nbformat": 4,
 "nbformat_minor": 5
}
